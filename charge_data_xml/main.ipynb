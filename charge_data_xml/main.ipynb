{
 "cells": [
  {
   "cell_type": "code",
   "execution_count": 30,
   "metadata": {},
   "outputs": [],
   "source": [
    "crew_data = [\n",
    "    \"ADMINISTRATIVO CONTABLE\",\n",
    "    \"ANALISTA CONTROL DE GESTION\",\n",
    "    \"ASESOR EXPERTO PREVENCION DE RIESGOS\",\n",
    "    \"ASISTENTE DE COMPRAS Y ABASTECIMIENTO\",\n",
    "    \"ASISTENTE OFICINA ADM\",\n",
    "    \"AUDITOR INTERNO\",\n",
    "    \"AYUDANTE MECANICO (C)\",\n",
    "    \"CALIBRADOR DE MADERAS\",\n",
    "    \"CELADOR EN FAENAS\",\n",
    "    \"CELADOR OFICINA ADMINISTRACION\",\n",
    "    \"CONDUCTOR DE CAMION\",\n",
    "    \"CONDUCTOR LOGISTICO OPERACIONES\",\n",
    "    \"CONDUCTOR TRASLADO PERSONAL\",\n",
    "    \"COORDINADOR SST\",\n",
    "    \"ENCARGADO DE BODEGA\",\n",
    "    \"ENCARGADO PERSONAL Y REMUNERACIONES\",\n",
    "    \"ENCARGADO SAP\",\n",
    "    \"FACILITADOR DE MAQUINARIAS\",\n",
    "    \"GENERALISTA ADMINISTRACION\",\n",
    "    \"GERENTE GENERAL\",\n",
    "    \"GERENTE OPERACIONES\",\n",
    "    \"INGENIERO DE CONFIABILIDAD\",\n",
    "    \"INGENIERO DE CONTRATOS\",\n",
    "    \"INGENIERO EN GESTION DE OPERACIONES\",\n",
    "    \"INGENIERO GESTION MAQUINARIAS\",\n",
    "    \"JEFE DE ADMINISTRACION\",\n",
    "    \"JEFE DE PERSONAS\",\n",
    "    \"JEFE DEPTO CONTROL DE GESTION\",\n",
    "    \"JEFE DEPTO SSO Y MA\",\n",
    "    \"JEFE FAENAS\",\n",
    "    \"JEFE FAENAS EN ENTRENAMIENTO\",\n",
    "    \"JEFE MAQUINARIAS\",\n",
    "    \"MECANICO MAQUINAS (A)\",\n",
    "    \"MECANICO MAQUINAS (B)\",\n",
    "    \"MECANICO MAQUINAS (LIDER)\",\n",
    "    \"MOTOSIERRISTA RECTIFICADO\",\n",
    "    \"OPERADOR ARRUMADO EXCAVADORA\",\n",
    "    \"OPERADOR CLASIFICADO EXCAVADORA\",\n",
    "    \"OPERADOR EN ENTRENAMIENTO\",\n",
    "    \"OPERADOR PROCESADOR DE MADERAS\",\n",
    "    \"OPERADOR SKIDDER GRAPPLE\",\n",
    "    \"OPERADOR TORRE ALPINE\",\n",
    "    \"OPERADOR VOLTEO FELLER\",\n",
    "    \"OPERADOR VOLTEO SHOVELL\",\n",
    "    \"PREINSTALADOR TORRE\",\n",
    "    \"SUBGERENTE DE ADMINISTRACION\",\n",
    "    \"SUPERVISOR DE FAENAS\",\n",
    "    \"SUPERVISOR MAQUINARIAS\"\n",
    "]\n"
   ]
  },
  {
   "cell_type": "code",
   "execution_count": 31,
   "metadata": {},
   "outputs": [],
   "source": [
    "import xml.etree.ElementTree as ET"
   ]
  },
  {
   "cell_type": "code",
   "execution_count": 32,
   "metadata": {},
   "outputs": [],
   "source": [
    "# Función para generar el alias\n",
    "alt_name_list=[]\n",
    "def generate_alt_name(name):\n",
    "    words = name.split(\" \")\n",
    "    alt_name = \"\"\n",
    "    for i, word in enumerate(words):\n",
    "        if word[0] == '(':\n",
    "            alt_name += word[1]\n",
    "        else:\n",
    "            alt_name += word[0]\n",
    "        alt_name_list.append(alt_name)\n",
    "        if alt_name in alt_name_list:\n",
    "            alt_name += word[2]\n",
    "    return alt_name"
   ]
  },
  {
   "cell_type": "code",
   "execution_count": 33,
   "metadata": {},
   "outputs": [],
   "source": [
    "# Crear el elemento raíz\n",
    "root = ET.Element(\"odoo\")\n",
    "root.set(\"noupdate\", \"0\")\n",
    "data = ET.SubElement(root, \"data\")\n",
    "data.set(\"noupdate\", \"1\")"
   ]
  },
  {
   "cell_type": "code",
   "execution_count": 34,
   "metadata": {},
   "outputs": [
    {
     "ename": "IndexError",
     "evalue": "string index out of range",
     "output_type": "error",
     "traceback": [
      "\u001b[0;31m---------------------------------------------------------------------------\u001b[0m",
      "\u001b[0;31mIndexError\u001b[0m                                Traceback (most recent call last)",
      "Cell \u001b[0;32mIn[34], line 14\u001b[0m\n\u001b[1;32m     12\u001b[0m alt_name_field \u001b[38;5;241m=\u001b[39m ET\u001b[38;5;241m.\u001b[39mSubElement(record, \u001b[38;5;124m\"\u001b[39m\u001b[38;5;124mfield\u001b[39m\u001b[38;5;124m\"\u001b[39m)\n\u001b[1;32m     13\u001b[0m alt_name_field\u001b[38;5;241m.\u001b[39mset(\u001b[38;5;124m\"\u001b[39m\u001b[38;5;124mname\u001b[39m\u001b[38;5;124m\"\u001b[39m, \u001b[38;5;124m\"\u001b[39m\u001b[38;5;124malt_name\u001b[39m\u001b[38;5;124m\"\u001b[39m)\n\u001b[0;32m---> 14\u001b[0m alt_name_field\u001b[38;5;241m.\u001b[39mtext \u001b[38;5;241m=\u001b[39m \u001b[43mgenerate_alt_name\u001b[49m\u001b[43m(\u001b[49m\u001b[43mname\u001b[49m\u001b[43m)\u001b[49m\n\u001b[1;32m     16\u001b[0m record_id \u001b[38;5;241m+\u001b[39m\u001b[38;5;241m=\u001b[39m \u001b[38;5;241m1\u001b[39m\n",
      "Cell \u001b[0;32mIn[32], line 13\u001b[0m, in \u001b[0;36mgenerate_alt_name\u001b[0;34m(name)\u001b[0m\n\u001b[1;32m     11\u001b[0m     alt_name_list\u001b[38;5;241m.\u001b[39mappend(alt_name)\n\u001b[1;32m     12\u001b[0m     \u001b[38;5;28;01mif\u001b[39;00m alt_name \u001b[38;5;129;01min\u001b[39;00m alt_name_list:\n\u001b[0;32m---> 13\u001b[0m         alt_name \u001b[38;5;241m+\u001b[39m\u001b[38;5;241m=\u001b[39m \u001b[43mword\u001b[49m\u001b[43m[\u001b[49m\u001b[38;5;241;43m2\u001b[39;49m\u001b[43m]\u001b[49m\n\u001b[1;32m     14\u001b[0m \u001b[38;5;28;01mreturn\u001b[39;00m alt_name\n",
      "\u001b[0;31mIndexError\u001b[0m: string index out of range"
     ]
    }
   ],
   "source": [
    "# Crear los registros\n",
    "record_id = 100\n",
    "for name in crew_data:\n",
    "    record = ET.SubElement(data, \"record\")\n",
    "    record.set(\"id\", f\"crew_type_{record_id}\")\n",
    "    record.set(\"model\", \"struct.crew.type\")\n",
    "\n",
    "    name_field = ET.SubElement(record, \"field\")\n",
    "    name_field.set(\"name\", \"name\")\n",
    "    name_field.text = name\n",
    "\n",
    "    alt_name_field = ET.SubElement(record, \"field\")\n",
    "    alt_name_field.set(\"name\", \"alt_name\")\n",
    "    alt_name_field.text = generate_alt_name(name)\n",
    "\n",
    "    record_id += 1"
   ]
  },
  {
   "cell_type": "code",
   "execution_count": 29,
   "metadata": {},
   "outputs": [],
   "source": [
    "# Crear el archivo XML\n",
    "tree = ET.ElementTree(root)\n",
    "with open(\"crew_data.xml\", \"wb\") as f:\n",
    "    tree.write(f, encoding=\"utf-8\", xml_declaration=True)"
   ]
  }
 ],
 "metadata": {
  "kernelspec": {
   "display_name": "env",
   "language": "python",
   "name": "python3"
  },
  "language_info": {
   "codemirror_mode": {
    "name": "ipython",
    "version": 3
   },
   "file_extension": ".py",
   "mimetype": "text/x-python",
   "name": "python",
   "nbconvert_exporter": "python",
   "pygments_lexer": "ipython3",
   "version": "3.12.3"
  }
 },
 "nbformat": 4,
 "nbformat_minor": 2
}
